import pandas as pd
try:
    df = pd.read_csv("dataset.csv")
except FileNotFoundError:
    print("Dataset not found. Please check the file path.")
print(df.head())
print(df.info())
print(df.isnull().sum())
df['column_name'].fillna(df['column_name'].mean(), inplace=True)
df.dropna(inplace=True)
print(df.describe())
grouped_data = df.groupby('category_column')['numerical_column'].mean()
print(grouped_data)
import matplotlib.pyplot as plt

df.plot(x='date_column', y='value_column', kind='line')
plt.title('Trend Over Time')
plt.xlabel('Date')
plt.ylabel('Value')
plt.show()
df.groupby('category_column')['value_column'].mean().plot(kind='bar')
plt.title('Average Value by Category')
plt.xlabel('Category')
plt.ylabel('Average Value')
plt.show()
df['numerical_column'].plot(kind='hist', bins=20, alpha=0.7)
plt.title('Distribution of Numerical Column')
plt.xlabel('Value')
plt.ylabel('Frequency')
plt.show()
df.plot(x='column_x', y='column_y', kind='scatter')
plt.title('Relationship Between X and Y')
plt.xlabel('Column X')
plt.ylabel('Column Y')
plt.show()
import seaborn as sns

sns.scatterplot(data=df, x='column_x', y='column_y', hue='category_column')
plt.title('Enhanced Scatter Plot')
plt.show()
try:
    df = pd.read_csv('file_path.csv')
except FileNotFoundError:
    print("The file was not found.")
try:
    df['numerical_column'] = pd.to_numeric(df['numerical_column'])
except ValueError:
    print("Non-numeric data found in the column.")
